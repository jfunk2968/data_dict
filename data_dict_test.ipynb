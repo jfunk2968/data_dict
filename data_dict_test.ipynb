{
 "metadata": {
  "name": "",
  "signature": "sha256:db228eff4de34032fbfa74d8ea21695dd924c23e10b41864ccfd336f41880972"
 },
 "nbformat": 3,
 "nbformat_minor": 0,
 "worksheets": [
  {
   "cells": [
    {
     "cell_type": "code",
     "collapsed": false,
     "input": [
      "import pandas as pd"
     ],
     "language": "python",
     "metadata": {},
     "outputs": [],
     "prompt_number": 1
    },
    {
     "cell_type": "code",
     "collapsed": false,
     "input": [
      "bike = pd.read_csv('~/Desktop/CitiBike/201307-201402-citibike-tripdata/2013-10 - Citi Bike trip data.csv')\n",
      "bike = bike[0:1000]"
     ],
     "language": "python",
     "metadata": {},
     "outputs": [],
     "prompt_number": 2
    },
    {
     "cell_type": "code",
     "collapsed": false,
     "input": [
      "from data_dict import data_dict"
     ],
     "language": "python",
     "metadata": {},
     "outputs": [],
     "prompt_number": 3
    },
    {
     "cell_type": "code",
     "collapsed": false,
     "input": [
      "d = data_dict(bike,'test.xlsx')"
     ],
     "language": "python",
     "metadata": {},
     "outputs": [],
     "prompt_number": 4
    },
    {
     "cell_type": "code",
     "collapsed": false,
     "input": [
      "d.head()"
     ],
     "language": "python",
     "metadata": {},
     "outputs": [
      {
       "html": [
        "<div style=\"max-width:1500px;overflow:auto;\">\n",
        "<table border=\"1\" class=\"dataframe\">\n",
        "  <thead>\n",
        "    <tr style=\"text-align: right;\">\n",
        "      <th></th>\n",
        "      <th>Variable</th>\n",
        "      <th>Dtype</th>\n",
        "      <th>Description</th>\n",
        "      <th>Missing</th>\n",
        "      <th>TopValues</th>\n",
        "      <th>Mean</th>\n",
        "      <th>Min</th>\n",
        "      <th>Max</th>\n",
        "      <th>Mode</th>\n",
        "      <th>Mode%</th>\n",
        "      <th>Notes</th>\n",
        "    </tr>\n",
        "  </thead>\n",
        "  <tbody>\n",
        "    <tr>\n",
        "      <th>0</th>\n",
        "      <td>tripduration</td>\n",
        "      <td>int64</td>\n",
        "      <td></td>\n",
        "      <td>0</td>\n",
        "      <td>NA</td>\n",
        "      <td>689.889</td>\n",
        "      <td>65</td>\n",
        "      <td>6744</td>\n",
        "      <td>356</td>\n",
        "      <td>0.006</td>\n",
        "      <td></td>\n",
        "    </tr>\n",
        "    <tr>\n",
        "      <th>1</th>\n",
        "      <td>starttime</td>\n",
        "      <td>object</td>\n",
        "      <td></td>\n",
        "      <td>0</td>\n",
        "      <td>2013-10-01 06:11:58  :  3\\n2013-10-01 06:03:28...</td>\n",
        "      <td>NA</td>\n",
        "      <td>NA</td>\n",
        "      <td>NA</td>\n",
        "      <td>2013-10-01 06:11:58</td>\n",
        "      <td>0.003</td>\n",
        "      <td></td>\n",
        "    </tr>\n",
        "    <tr>\n",
        "      <th>2</th>\n",
        "      <td>stoptime</td>\n",
        "      <td>object</td>\n",
        "      <td></td>\n",
        "      <td>0</td>\n",
        "      <td>2013-10-01 00:40:43  :  2\\n2013-10-01 02:18:25...</td>\n",
        "      <td>NA</td>\n",
        "      <td>NA</td>\n",
        "      <td>NA</td>\n",
        "      <td>2013-10-01 06:09:45</td>\n",
        "      <td>0.002</td>\n",
        "      <td></td>\n",
        "    </tr>\n",
        "    <tr>\n",
        "      <th>3</th>\n",
        "      <td>start station id</td>\n",
        "      <td>int64</td>\n",
        "      <td></td>\n",
        "      <td>0</td>\n",
        "      <td>NA</td>\n",
        "      <td>442.434</td>\n",
        "      <td>72</td>\n",
        "      <td>3002</td>\n",
        "      <td>477</td>\n",
        "      <td>0.034</td>\n",
        "      <td></td>\n",
        "    </tr>\n",
        "    <tr>\n",
        "      <th>4</th>\n",
        "      <td>start station name</td>\n",
        "      <td>object</td>\n",
        "      <td></td>\n",
        "      <td>0</td>\n",
        "      <td>W 41 St &amp; 8 Ave  :  34\\nW 31 St &amp; 7 Ave  :  24...</td>\n",
        "      <td>NA</td>\n",
        "      <td>NA</td>\n",
        "      <td>NA</td>\n",
        "      <td>W 41 St &amp; 8 Ave</td>\n",
        "      <td>0.034</td>\n",
        "      <td></td>\n",
        "    </tr>\n",
        "  </tbody>\n",
        "</table>\n",
        "</div>"
       ],
       "metadata": {},
       "output_type": "pyout",
       "prompt_number": 6,
       "text": [
        "             Variable   Dtype Description  Missing  \\\n",
        "0        tripduration   int64                    0   \n",
        "1           starttime  object                    0   \n",
        "2            stoptime  object                    0   \n",
        "3    start station id   int64                    0   \n",
        "4  start station name  object                    0   \n",
        "\n",
        "                                           TopValues     Mean Min   Max  \\\n",
        "0                                                 NA  689.889  65  6744   \n",
        "1  2013-10-01 06:11:58  :  3\\n2013-10-01 06:03:28...       NA  NA    NA   \n",
        "2  2013-10-01 00:40:43  :  2\\n2013-10-01 02:18:25...       NA  NA    NA   \n",
        "3                                                 NA  442.434  72  3002   \n",
        "4  W 41 St & 8 Ave  :  34\\nW 31 St & 7 Ave  :  24...       NA  NA    NA   \n",
        "\n",
        "                  Mode  Mode% Notes  \n",
        "0                  356  0.006        \n",
        "1  2013-10-01 06:11:58  0.003        \n",
        "2  2013-10-01 06:09:45  0.002        \n",
        "3                  477  0.034        \n",
        "4      W 41 St & 8 Ave  0.034        "
       ]
      }
     ],
     "prompt_number": 6
    },
    {
     "cell_type": "code",
     "collapsed": false,
     "input": [],
     "language": "python",
     "metadata": {},
     "outputs": []
    }
   ],
   "metadata": {}
  }
 ]
}